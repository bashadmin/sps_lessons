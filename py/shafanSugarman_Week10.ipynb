{
 "cells": [
  {
   "cell_type": "code",
   "execution_count": 3,
   "id": "fddded3a",
   "metadata": {},
   "outputs": [],
   "source": [
    "def simple_lookup(var1, var2):\n",
    "    try:\n",
    "        return var1[var2]\n",
    "    except LookupError:\n",
    "        print(\"Warning: Your index/key doesn't exist.\")\n",
    "        return var1"
   ]
  },
  {
   "cell_type": "code",
   "execution_count": 4,
   "id": "3cbfd7b6",
   "metadata": {},
   "outputs": [
    {
     "name": "stdout",
     "output_type": "stream",
     "text": [
      "Warning: Your index/key doesn't exist.\n"
     ]
    },
    {
     "data": {
      "text/plain": [
       "[1, 2]"
      ]
     },
     "execution_count": 4,
     "metadata": {},
     "output_type": "execute_result"
    }
   ],
   "source": [
    "simple_lookup([1,2],4)"
   ]
  },
  {
   "cell_type": "code",
   "execution_count": 5,
   "id": "a2bc037c",
   "metadata": {},
   "outputs": [
    {
     "name": "stdout",
     "output_type": "stream",
     "text": [
      "Warning: Your index/key doesn't exist.\n"
     ]
    },
    {
     "data": {
      "text/plain": [
       "{}"
      ]
     },
     "execution_count": 5,
     "metadata": {},
     "output_type": "execute_result"
    }
   ],
   "source": [
    "simple_lookup({}, 'banana')"
   ]
  },
  {
   "cell_type": "code",
   "execution_count": 6,
   "id": "ff70a6fa",
   "metadata": {},
   "outputs": [
    {
     "data": {
      "text/plain": [
       "2"
      ]
     },
     "execution_count": 6,
     "metadata": {},
     "output_type": "execute_result"
    }
   ],
   "source": [
    "simple_lookup([1,2],1)"
   ]
  },
  {
   "cell_type": "code",
   "execution_count": 24,
   "id": "cf793670",
   "metadata": {},
   "outputs": [],
   "source": [
    "import datetime\n",
    "\n",
    "class InvalidAgeError(Exception):\n",
    "    \"\"\"Exception raised for errors in the input birthyear\n",
    "    \n",
    "    Attributes:\n",
    "        birthyear -- input birthday which caused the error\n",
    "        message -- explanation of the error\n",
    "    \"\"\"\n",
    "    def __init__(self, birthyear, message=\"Birthyear (0, 2021) not in acceptable range.\"):\n",
    "        self.birthyear = birthyear\n",
    "        self.message = message\n",
    "        super().__init__(self.message)\n",
    "    \n",
    "    def __str__(self):\n",
    "        nl = '\\n'\n",
    "        return f'{self.birthyear}{nl}Console message: {self.message}'\n",
    "\n",
    "def get_age(birthyear):\n",
    "        age = datetime.datetime.now().year - birthyear\n",
    "        if not 0 < birthyear < 2021:\n",
    "            raise InvalidAgeError(birthyear)\n",
    "        else:\n",
    "            return age"
   ]
  },
  {
   "cell_type": "code",
   "execution_count": 25,
   "id": "9a37939a",
   "metadata": {},
   "outputs": [
    {
     "ename": "InvalidAgeError",
     "evalue": "2099\nConsole message: Birthyear (0, 2021) not in acceptable range.",
     "output_type": "error",
     "traceback": [
      "\u001b[0;31m---------------------------------------------------------------------------\u001b[0m",
      "\u001b[0;31mInvalidAgeError\u001b[0m                           Traceback (most recent call last)",
      "\u001b[0;32m<ipython-input-25-23a789092555>\u001b[0m in \u001b[0;36m<module>\u001b[0;34m\u001b[0m\n\u001b[0;32m----> 1\u001b[0;31m \u001b[0mget_age\u001b[0m\u001b[0;34m(\u001b[0m\u001b[0;36m2099\u001b[0m\u001b[0;34m)\u001b[0m\u001b[0;34m\u001b[0m\u001b[0;34m\u001b[0m\u001b[0m\n\u001b[0m",
      "\u001b[0;32m<ipython-input-24-a27774cb9a55>\u001b[0m in \u001b[0;36mget_age\u001b[0;34m(birthyear)\u001b[0m\n\u001b[1;32m     20\u001b[0m         \u001b[0mage\u001b[0m \u001b[0;34m=\u001b[0m \u001b[0mdatetime\u001b[0m\u001b[0;34m.\u001b[0m\u001b[0mdatetime\u001b[0m\u001b[0;34m.\u001b[0m\u001b[0mnow\u001b[0m\u001b[0;34m(\u001b[0m\u001b[0;34m)\u001b[0m\u001b[0;34m.\u001b[0m\u001b[0myear\u001b[0m \u001b[0;34m-\u001b[0m \u001b[0mbirthyear\u001b[0m\u001b[0;34m\u001b[0m\u001b[0;34m\u001b[0m\u001b[0m\n\u001b[1;32m     21\u001b[0m         \u001b[0;32mif\u001b[0m \u001b[0;32mnot\u001b[0m \u001b[0;36m0\u001b[0m \u001b[0;34m<\u001b[0m \u001b[0mbirthyear\u001b[0m \u001b[0;34m<\u001b[0m \u001b[0;36m2021\u001b[0m\u001b[0;34m:\u001b[0m\u001b[0;34m\u001b[0m\u001b[0;34m\u001b[0m\u001b[0m\n\u001b[0;32m---> 22\u001b[0;31m             \u001b[0;32mraise\u001b[0m \u001b[0mInvalidAgeError\u001b[0m\u001b[0;34m(\u001b[0m\u001b[0mbirthyear\u001b[0m\u001b[0;34m)\u001b[0m\u001b[0;34m\u001b[0m\u001b[0;34m\u001b[0m\u001b[0m\n\u001b[0m\u001b[1;32m     23\u001b[0m         \u001b[0;32melse\u001b[0m\u001b[0;34m:\u001b[0m\u001b[0;34m\u001b[0m\u001b[0;34m\u001b[0m\u001b[0m\n\u001b[1;32m     24\u001b[0m             \u001b[0;32mreturn\u001b[0m \u001b[0mage\u001b[0m\u001b[0;34m\u001b[0m\u001b[0;34m\u001b[0m\u001b[0m\n",
      "\u001b[0;31mInvalidAgeError\u001b[0m: 2099\nConsole message: Birthyear (0, 2021) not in acceptable range."
     ]
    }
   ],
   "source": [
    "get_age(2099)"
   ]
  },
  {
   "cell_type": "code",
   "execution_count": 26,
   "id": "f125eb7a",
   "metadata": {},
   "outputs": [
    {
     "data": {
      "text/plain": [
       "33"
      ]
     },
     "execution_count": 26,
     "metadata": {},
     "output_type": "execute_result"
    }
   ],
   "source": [
    "get_age(1988)"
   ]
  },
  {
   "cell_type": "code",
   "execution_count": null,
   "id": "f5775a5a",
   "metadata": {},
   "outputs": [],
   "source": []
  }
 ],
 "metadata": {
  "kernelspec": {
   "display_name": "Python 3",
   "language": "python",
   "name": "python3"
  },
  "language_info": {
   "codemirror_mode": {
    "name": "ipython",
    "version": 3
   },
   "file_extension": ".py",
   "mimetype": "text/x-python",
   "name": "python",
   "nbconvert_exporter": "python",
   "pygments_lexer": "ipython3",
   "version": "3.8.10"
  }
 },
 "nbformat": 4,
 "nbformat_minor": 5
}
