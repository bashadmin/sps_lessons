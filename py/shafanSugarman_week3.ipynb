{
 "cells": [
  {
   "cell_type": "code",
   "execution_count": 1,
   "id": "0d9fe6e4",
   "metadata": {},
   "outputs": [
    {
     "name": "stdout",
     "output_type": "stream",
     "text": [
      "Nevermore\n"
     ]
    }
   ],
   "source": [
    "# Taks 01 reassigning variables\n",
    "RAVEN = 'Quoth'\n",
    "RAVEN = 'Nevermore'\n",
    "print(RAVEN)"
   ]
  },
  {
   "cell_type": "code",
   "execution_count": 3,
   "id": "3c260560",
   "metadata": {},
   "outputs": [
    {
     "name": "stdout",
     "output_type": "stream",
     "text": [
      "52\n"
     ]
    }
   ],
   "source": [
    "# Task 02 order of operations\n",
    "WEEKS = ((((19 % 10) + 100) + 2 ** 8) // 7) # we use floor division to get a whole answer.\n",
    "print(WEEKS)"
   ]
  },
  {
   "cell_type": "code",
   "execution_count": 10,
   "id": "ffe39461",
   "metadata": {},
   "outputs": [
    {
     "name": "stdout",
     "output_type": "stream",
     "text": [
      "Danger \n"
     ]
    }
   ],
   "source": [
    "# Task 03 slicing\n",
    "WILL_ROBINSON = 'Danger Will Robinson!'\n",
    "KLAXON = WILL_ROBINSON[0:7] # Danger is 6 letters, so we don't need to include the 7th\n",
    "print(KLAXON)"
   ]
  },
  {
   "cell_type": "code",
   "execution_count": 11,
   "id": "080754bb",
   "metadata": {},
   "outputs": [
    {
     "name": "stdout",
     "output_type": "stream",
     "text": [
      "Danger Danger Danger Danger Danger \n"
     ]
    }
   ],
   "source": [
    "# Task 04 repeating strings\n",
    "KLAXON = (KLAXON) * 5\n",
    "print(KLAXON)"
   ]
  },
  {
   "cell_type": "code",
   "execution_count": 19,
   "id": "a92d3ee4",
   "metadata": {},
   "outputs": [],
   "source": [
    "# Task 05 string to list using split method\n",
    "TEENAGE_MUTANT_NINJAS = ('Michaelangelo. Leonardo. Rafael. Donatello. Heroes '\n",
    "                     'in a half shell.')"
   ]
  },
  {
   "cell_type": "code",
   "execution_count": 21,
   "id": "1514e4e2",
   "metadata": {},
   "outputs": [],
   "source": [
    "TURTULE_POWER = TEENAGE_MUTANT_NINJAS.split('. ') # split the list using the period as the deliminator"
   ]
  },
  {
   "cell_type": "code",
   "execution_count": 22,
   "id": "7c1ea0b3",
   "metadata": {},
   "outputs": [
    {
     "name": "stdout",
     "output_type": "stream",
     "text": [
      "['Michaelangelo', 'Leonardo', 'Rafael', 'Donatello', 'Heroes in a half shell.']\n"
     ]
    }
   ],
   "source": [
    "print(TURTULE_POWER)"
   ]
  },
  {
   "cell_type": "code",
   "execution_count": 23,
   "id": "e4553b24",
   "metadata": {},
   "outputs": [],
   "source": [
    "# Task 06 using the strip method to deal with formatting\n",
    "NERVOUS_AS = \"\"\"\n",
    "//////////A long-tailed cat in a room full of rockin' chairs.,,,,,,,,,, \"\"\".strip()"
   ]
  },
  {
   "cell_type": "code",
   "execution_count": 36,
   "id": "7ed6afd0",
   "metadata": {},
   "outputs": [],
   "source": [
    "NERVOUS_AS = NERVOUS_AS.lstrip('/').rstrip(',') # correcting the formatting"
   ]
  },
  {
   "cell_type": "code",
   "execution_count": 37,
   "id": "64954581",
   "metadata": {},
   "outputs": [
    {
     "name": "stdout",
     "output_type": "stream",
     "text": [
      "A long-tailed cat in a room full of rockin' chairs.\n"
     ]
    }
   ],
   "source": [
    "print(NERVOUS_AS)"
   ]
  },
  {
   "cell_type": "code",
   "execution_count": 45,
   "id": "1e7c41ce",
   "metadata": {},
   "outputs": [],
   "source": [
    "# Task 07 string manipulation continued\n",
    "MOVIE = 'dr. strangelove or: how i learned to stop worrying and love the bomb'\n",
    "ENTITLED = MOVIE.title() # use the title method to make every character upper case."
   ]
  },
  {
   "cell_type": "code",
   "execution_count": 46,
   "id": "ad1dfe99",
   "metadata": {},
   "outputs": [
    {
     "name": "stdout",
     "output_type": "stream",
     "text": [
      "Dr. Strangelove Or: How I Learned To Stop Worrying And Love The Bomb\n"
     ]
    }
   ],
   "source": [
    "print(ENTITLED)"
   ]
  },
  {
   "cell_type": "code",
   "execution_count": 53,
   "id": "a593d7c1",
   "metadata": {},
   "outputs": [],
   "source": [
    "# Task 08 understanding types\n",
    "IS_TRUE = True\n",
    "IS_FALSE = False\n",
    "IS_NONE = None\n",
    "INTEGER_EQUIV = (IS_TRUE == 1) and (IS_FALSE == 0)"
   ]
  },
  {
   "cell_type": "code",
   "execution_count": 57,
   "id": "e8815ad7",
   "metadata": {},
   "outputs": [
    {
     "name": "stdout",
     "output_type": "stream",
     "text": [
      "IS_TRUE = True\n",
      "IS_FALSE = False\n",
      "IS_NONE = None\n",
      "INTEGER_EQUIV = True\n"
     ]
    }
   ],
   "source": [
    "print(f'IS_TRUE = {IS_TRUE}', f'IS_FALSE = {IS_FALSE}', f'IS_NONE = {IS_NONE}', f'INTEGER_EQUIV = {INTEGER_EQUIV}',sep='\\n')"
   ]
  },
  {
   "cell_type": "code",
   "execution_count": null,
   "id": "7545f06b",
   "metadata": {},
   "outputs": [],
   "source": []
  }
 ],
 "metadata": {
  "kernelspec": {
   "display_name": "Python 3",
   "language": "python",
   "name": "python3"
  },
  "language_info": {
   "codemirror_mode": {
    "name": "ipython",
    "version": 3
   },
   "file_extension": ".py",
   "mimetype": "text/x-python",
   "name": "python",
   "nbconvert_exporter": "python",
   "pygments_lexer": "ipython3",
   "version": "3.8.10"
  }
 },
 "nbformat": 4,
 "nbformat_minor": 5
}
