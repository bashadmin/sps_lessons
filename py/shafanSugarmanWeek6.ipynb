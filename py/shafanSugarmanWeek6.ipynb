{
 "cells": [
  {
   "cell_type": "code",
   "execution_count": 1,
   "id": "80288df9",
   "metadata": {},
   "outputs": [],
   "source": [
    "def fibonacci(maxint):\n",
    "    Arr = []\n",
    "    curnum = 0\n",
    "    lastnum = 1\n",
    "    while(curnum < n):\n",
    "        Arr.append(curnum)\n",
    "        lastnum, curnum = curnum, lastnum+curnum\n",
    "    return Arr\n",
    "    "
   ]
  },
  {
   "cell_type": "code",
   "execution_count": 2,
   "id": "f83b0491",
   "metadata": {},
   "outputs": [],
   "source": [
    "#The words are determined by counting the number of spaces. In particular, a trailing space will make this inaccurate.\n",
    "def lexicographics(to_analyze):\n",
    "    lines_list = to_analyze.split('\\n')\n",
    "    words_per_line = [len(w.split(' ')) for w in lines_list]\n",
    "    M = max(words_per_line)\n",
    "    m = min(words_per_line)\n",
    "    avg = sum(words_per_line)/len(words_per_line)\n",
    "    return (M, m, avg)"
   ]
  },
  {
   "cell_type": "code",
   "execution_count": null,
   "id": "4d0f5d4e",
   "metadata": {},
   "outputs": [],
   "source": []
  }
 ],
 "metadata": {
  "kernelspec": {
   "display_name": "Python 3",
   "language": "python",
   "name": "python3"
  },
  "language_info": {
   "codemirror_mode": {
    "name": "ipython",
    "version": 3
   },
   "file_extension": ".py",
   "mimetype": "text/x-python",
   "name": "python",
   "nbconvert_exporter": "python",
   "pygments_lexer": "ipython3",
   "version": "3.8.10"
  }
 },
 "nbformat": 4,
 "nbformat_minor": 5
}
