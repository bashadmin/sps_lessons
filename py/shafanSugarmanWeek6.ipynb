{
 "cells": [
  {
   "cell_type": "code",
   "execution_count": 7,
   "id": "8a3feb6a",
   "metadata": {},
   "outputs": [],
   "source": [
    "def fibonacci(maxint):\n",
    "    Arr = []\n",
    "    curnum = 0\n",
    "    lastnum = 1\n",
    "    while(curnum < maxint):\n",
    "        Arr.append(curnum)\n",
    "        lastnum, curnum = curnum, lastnum+curnum\n",
    "    return Arr\n",
    "    "
   ]
  },
  {
   "cell_type": "code",
   "execution_count": 8,
   "id": "002b2c8b",
   "metadata": {},
   "outputs": [],
   "source": [
    "#The words are determined by counting the number of spaces. In particular, a trailing space will make this inaccurate.\n",
    "def lexicographics(to_analyze):\n",
    "    lines_list = to_analyze.split('\\n')\n",
    "    words_per_line = [len(w.split(' ')) for w in lines_list]\n",
    "    M = max(words_per_line)\n",
    "    m = min(words_per_line)\n",
    "    avg = sum(words_per_line)/len(words_per_line)\n",
    "    return (M, m, avg)"
   ]
  },
  {
   "cell_type": "code",
   "execution_count": 9,
   "id": "53620258",
   "metadata": {},
   "outputs": [],
   "source": [
    "to_analyze = 'abbot and costello\\nhey, how are you?'"
   ]
  },
  {
   "cell_type": "code",
   "execution_count": 10,
   "id": "856dedba",
   "metadata": {},
   "outputs": [
    {
     "data": {
      "text/plain": [
       "(4, 3, 3.5)"
      ]
     },
     "execution_count": 10,
     "metadata": {},
     "output_type": "execute_result"
    }
   ],
   "source": [
    "lexicographics(to_analyze)"
   ]
  },
  {
   "cell_type": "code",
   "execution_count": 11,
   "id": "27a9a4e7",
   "metadata": {},
   "outputs": [
    {
     "data": {
      "text/plain": [
       "[0, 1, 1, 2, 3, 5, 8, 13, 21, 34]"
      ]
     },
     "execution_count": 11,
     "metadata": {},
     "output_type": "execute_result"
    }
   ],
   "source": [
    "fibonacci(40)"
   ]
  },
  {
   "cell_type": "code",
   "execution_count": null,
   "id": "cfeef6b6",
   "metadata": {},
   "outputs": [],
   "source": []
  }
 ],
 "metadata": {
  "kernelspec": {
   "display_name": "Python 3",
   "language": "python",
   "name": "python3"
  },
  "language_info": {
   "codemirror_mode": {
    "name": "ipython",
    "version": 3
   },
   "file_extension": ".py",
   "mimetype": "text/x-python",
   "name": "python",
   "nbconvert_exporter": "python",
   "pygments_lexer": "ipython3",
   "version": "3.8.10"
  }
 },
 "nbformat": 4,
 "nbformat_minor": 5
}
