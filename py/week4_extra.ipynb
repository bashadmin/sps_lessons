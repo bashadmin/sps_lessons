{
 "cells": [
  {
   "cell_type": "code",
   "execution_count": 3,
   "id": "22629cc9",
   "metadata": {},
   "outputs": [],
   "source": [
    "# This week's extra credit work is a programming challenge that riffs off this week's synthesizing tasks and \n",
    "# asks you to provide the inverse temperature conversion function or functions. Following the principles of \n",
    "# DRY-ness, Abstraction and Once-and-Only-Once, can you find a way to combine the similar (though inverted) \n",
    "# logic of reversing Kelvin to Celsius, Celsius to Fahrenheit, and Kelvin to Fahrenheit.\n",
    "\n",
    "# Provide a one-to-two paragraph explanation of the coding choices you made to avoid unnecessary duplication \n",
    "# and enforce consistency and remember that even extra credit work must still adhere to all documentation and \n",
    "# style rules.\n",
    "\n",
    "# Commentators, discuss your fellow students work. Provide comparisons to other work and offer constructive \n",
    "# criticism that might be used to improve the programs."
   ]
  },
  {
   "cell_type": "code",
   "execution_count": 6,
   "id": "9184854e",
   "metadata": {},
   "outputs": [],
   "source": [
    "# k->C\n",
    "# 0K − 273.15 = -273.1°C\n",
    "# C->F\n",
    "# (0°C × 9/5) + 32 = 32°F\n",
    "# K->F\n",
    "# (0K − 273.15) × 9/5 + 32 = -459.7°F"
   ]
  },
  {
   "cell_type": "code",
   "execution_count": 1,
   "id": "939b0f25",
   "metadata": {},
   "outputs": [],
   "source": [
    "menu = {}\n",
    "menu['1']=\"Kelvin to Celsius\"\n",
    "menu['2']=\"Celsius to Fahrenheit\"\n",
    "menu['3']='Kelvin to Fahrenheit'"
   ]
  },
  {
   "cell_type": "code",
   "execution_count": 2,
   "id": "e00458fc",
   "metadata": {},
   "outputs": [],
   "source": [
    "def output(out):\n",
    "    return round(out,2)"
   ]
  },
  {
   "cell_type": "code",
   "execution_count": 3,
   "id": "24578703",
   "metadata": {},
   "outputs": [],
   "source": [
    "def kelvin_to_celsius(K:float):\n",
    "    C = K - 273.15\n",
    "    return output(C)"
   ]
  },
  {
   "cell_type": "code",
   "execution_count": 4,
   "id": "8fbce87e",
   "metadata": {},
   "outputs": [],
   "source": [
    "def celsius_to_fahrenheit(C:float):\n",
    "    F = (C * (9/5)) + 32\n",
    "    return output(F)"
   ]
  },
  {
   "cell_type": "code",
   "execution_count": 5,
   "id": "da98b97c",
   "metadata": {},
   "outputs": [],
   "source": [
    "def kelvin_to_fahrenheit(K:float):\n",
    "    F = ((kelvin_to_celsius(K)) * (9/5)) + 32\n",
    "    return output(F)"
   ]
  },
  {
   "cell_type": "code",
   "execution_count": 21,
   "id": "b0fc05c6",
   "metadata": {},
   "outputs": [],
   "source": [
    "def choose():\n",
    "    choice = float(input(\"Enter Temp: \"))\n",
    "    return choice"
   ]
  },
  {
   "cell_type": "code",
   "execution_count": 26,
   "id": "b501a637",
   "metadata": {},
   "outputs": [],
   "source": [
    "def convert():\n",
    "    print(menu)\n",
    "    selection = input(\"Choose 1, 2, or 3 for your conversion: \")\n",
    "    selection = selection\n",
    "    if selection == '1':\n",
    "        return kelvin_to_celsius(choose())\n",
    "    elif selection == '2':\n",
    "        return celsius_to_fahrenheit(choose())\n",
    "    elif selection == '3':\n",
    "        return kelvin_to_fahrenheit(choose())\n",
    "    else:\n",
    "        print(\"Goodbye.\")"
   ]
  },
  {
   "cell_type": "code",
   "execution_count": 27,
   "id": "f0670d0c",
   "metadata": {},
   "outputs": [
    {
     "name": "stdout",
     "output_type": "stream",
     "text": [
      "{'1': 'Kelvin to Celsius', '2': 'Celsius to Fahrenheit', '3': 'Kelvin to Fahrenheit'}\n",
      "Choose 1, 2, or 3 for your conversion: 2\n",
      "Enter Temp: 37\n"
     ]
    },
    {
     "data": {
      "text/plain": [
       "98.6"
      ]
     },
     "execution_count": 27,
     "metadata": {},
     "output_type": "execute_result"
    }
   ],
   "source": [
    "convert()"
   ]
  },
  {
   "cell_type": "code",
   "execution_count": null,
   "id": "c50bc911",
   "metadata": {},
   "outputs": [],
   "source": []
  }
 ],
 "metadata": {
  "kernelspec": {
   "display_name": "Python 3",
   "language": "python",
   "name": "python3"
  },
  "language_info": {
   "codemirror_mode": {
    "name": "ipython",
    "version": 3
   },
   "file_extension": ".py",
   "mimetype": "text/x-python",
   "name": "python",
   "nbconvert_exporter": "python",
   "pygments_lexer": "ipython3",
   "version": "3.8.10"
  }
 },
 "nbformat": 4,
 "nbformat_minor": 5
}
