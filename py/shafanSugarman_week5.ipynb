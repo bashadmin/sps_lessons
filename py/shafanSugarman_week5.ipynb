{
 "cells": [
  {
   "cell_type": "code",
   "execution_count": 1,
   "id": "e920520a",
   "metadata": {},
   "outputs": [],
   "source": [
    "ELEMENTS = (None, 'Hydrogen', 'Helium', 'Lithium', 'Beryllium', 'Boron', 'Carbon')"
   ]
  },
  {
   "cell_type": "code",
   "execution_count": 2,
   "id": "da868f8d",
   "metadata": {},
   "outputs": [],
   "source": [
    "OPERATIONS_ORDER = ['Parentheses', 'Exponents', 'Multiplication', 'Division', 'Addition', 'Subtraction']"
   ]
  },
  {
   "cell_type": "code",
   "execution_count": 6,
   "id": "af29f5ba",
   "metadata": {},
   "outputs": [
    {
     "name": "stdout",
     "output_type": "stream",
     "text": [
      "(None, 'Hydrogen', 'Helium', 'Lithium', 'Beryllium', 'Boron', 'Carbon')\n",
      "\n",
      "['Parentheses', 'Exponents', 'Multiplication', 'Division', 'Addition', 'Subtraction']\n"
     ]
    }
   ],
   "source": [
    "print(ELEMENTS, OPERATIONS_ORDER, sep='\\n\\n')"
   ]
  },
  {
   "cell_type": "code",
   "execution_count": 28,
   "id": "d9ef4476",
   "metadata": {},
   "outputs": [],
   "source": [
    "# computes the sum and average of a list or tuple\n",
    "def process_data(data:{list,tuple}):\n",
    "    total_sum = 0\n",
    "    for i in data:\n",
    "        total_sum += i\n",
    "    average = total_sum / len(data)\n",
    "    return print(f'({total_sum}, {average})')"
   ]
  },
  {
   "cell_type": "code",
   "execution_count": 29,
   "id": "d9846bc7",
   "metadata": {},
   "outputs": [
    {
     "name": "stdout",
     "output_type": "stream",
     "text": [
      "(6, 2.0)\n"
     ]
    }
   ],
   "source": [
    "process_data([1,2,3])"
   ]
  },
  {
   "cell_type": "code",
   "execution_count": 30,
   "id": "5d0afcd3",
   "metadata": {},
   "outputs": [
    {
     "name": "stdout",
     "output_type": "stream",
     "text": [
      "(6, 2.0)\n"
     ]
    }
   ],
   "source": [
    "process_data((1,2,3))"
   ]
  },
  {
   "cell_type": "code",
   "execution_count": 42,
   "id": "58aca6a2",
   "metadata": {},
   "outputs": [
    {
     "data": {
      "text/plain": [
       "'def flip_keys(to_flip):\\n    L = len(to_flip)\\n    new_lst = []\\n    for index in range(1, L+1):\\n        new_lst.append(to_flip[L-index])\\n    return new_lst'"
      ]
     },
     "execution_count": 42,
     "metadata": {},
     "output_type": "execute_result"
    }
   ],
   "source": [
    "\"\"\"def flip_keys(to_flip):\n",
    "    L = len(to_flip)\n",
    "    new_lst = []\n",
    "    for index in range(1, L+1):\n",
    "        new_lst.append(to_flip[L-index])\n",
    "    return new_lst\"\"\""
   ]
  },
  {
   "cell_type": "code",
   "execution_count": 43,
   "id": "bbd7d153",
   "metadata": {},
   "outputs": [],
   "source": [
    "A = [(1,2,3), 'abc']"
   ]
  },
  {
   "cell_type": "code",
   "execution_count": 44,
   "id": "0d163b46",
   "metadata": {},
   "outputs": [],
   "source": [
    "# Task 3 function returns a list with its inner elements reversed.\n",
    "def flip_keys(to_flip):\n",
    "    count = 0\n",
    "    for i in to_flip:\n",
    "        to_flip[count] = i[::-1]\n",
    "        count += 1"
   ]
  },
  {
   "cell_type": "code",
   "execution_count": 45,
   "id": "582eb1d7",
   "metadata": {},
   "outputs": [],
   "source": [
    "flip_keys(A)"
   ]
  },
  {
   "cell_type": "code",
   "execution_count": 41,
   "id": "a667b138",
   "metadata": {},
   "outputs": [
    {
     "data": {
      "text/plain": [
       "[(3, 2, 1), 'cba']"
      ]
     },
     "execution_count": 41,
     "metadata": {},
     "output_type": "execute_result"
    }
   ],
   "source": [
    "A"
   ]
  },
  {
   "cell_type": "code",
   "execution_count": null,
   "id": "29b0ce7e",
   "metadata": {},
   "outputs": [],
   "source": []
  }
 ],
 "metadata": {
  "kernelspec": {
   "display_name": "Python 3",
   "language": "python",
   "name": "python3"
  },
  "language_info": {
   "codemirror_mode": {
    "name": "ipython",
    "version": 3
   },
   "file_extension": ".py",
   "mimetype": "text/x-python",
   "name": "python",
   "nbconvert_exporter": "python",
   "pygments_lexer": "ipython3",
   "version": "3.8.10"
  }
 },
 "nbformat": 4,
 "nbformat_minor": 5
}
