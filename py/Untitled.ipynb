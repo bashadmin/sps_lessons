{
 "cells": [
  {
   "cell_type": "code",
   "execution_count": 1,
   "id": "5434b122",
   "metadata": {},
   "outputs": [
    {
     "name": "stdout",
     "output_type": "stream",
     "text": [
      "Hello there! Please enter your name: sam\n"
     ]
    }
   ],
   "source": [
    "name = input(\"Hello there! Please enter your name: \") "
   ]
  },
  {
   "cell_type": "code",
   "execution_count": 2,
   "id": "a21c9cda",
   "metadata": {},
   "outputs": [],
   "source": [
    "name = name.lower().capitalize()"
   ]
  },
  {
   "cell_type": "code",
   "execution_count": 3,
   "id": "dbf14933",
   "metadata": {},
   "outputs": [
    {
     "name": "stdout",
     "output_type": "stream",
     "text": [
      "Nice to meet you Sam! \n",
      "where are you from? New York\n"
     ]
    }
   ],
   "source": [
    "location = input(f'Nice to meet you {name}! \\nwhere are you from? ')"
   ]
  },
  {
   "cell_type": "code",
   "execution_count": 4,
   "id": "53268473",
   "metadata": {},
   "outputs": [
    {
     "name": "stdout",
     "output_type": "stream",
     "text": [
      "Ahhh New York, what an interesting place to come from. Do you have good sports teams? \n",
      "What's your favorite?The knicks\n"
     ]
    }
   ],
   "source": [
    "team = input(f\"Ahhh {location}, what an interesting place to come from. Do you have good sports teams? \\nWhat's your favorite?\")"
   ]
  },
  {
   "cell_type": "code",
   "execution_count": 5,
   "id": "c73ba04f",
   "metadata": {},
   "outputs": [
    {
     "name": "stdout",
     "output_type": "stream",
     "text": [
      "Well it was fun meeting you Sam, thank you for telling me about the The knicks's and I hope you continue to enjoy living in New York!\n"
     ]
    }
   ],
   "source": [
    "print(f\"Well it was fun meeting you {name}, thank you for telling me about the {team}'s and I hope you continue to enjoy living in {location}!\")"
   ]
  },
  {
   "cell_type": "code",
   "execution_count": null,
   "id": "c82d2c1b",
   "metadata": {},
   "outputs": [],
   "source": []
  }
 ],
 "metadata": {
  "kernelspec": {
   "display_name": "Python 3",
   "language": "python",
   "name": "python3"
  },
  "language_info": {
   "codemirror_mode": {
    "name": "ipython",
    "version": 3
   },
   "file_extension": ".py",
   "mimetype": "text/x-python",
   "name": "python",
   "nbconvert_exporter": "python",
   "pygments_lexer": "ipython3",
   "version": "3.8.10"
  }
 },
 "nbformat": 4,
 "nbformat_minor": 5
}
