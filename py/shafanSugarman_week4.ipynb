{
 "cells": [
  {
   "cell_type": "code",
   "execution_count": 38,
   "id": "6576080f",
   "metadata": {},
   "outputs": [],
   "source": [
    "# Task 01\n",
    "# this function checks weather or not there is enough waste facilities and food for cats.\n",
    "def too_many_kittens(kittens:int,litterboxes:int,catfood:bool):\n",
    "    if not (litterboxes >= kittens and catfood):\n",
    "        return True\n",
    "    else:\n",
    "        return False"
   ]
  },
  {
   "cell_type": "code",
   "execution_count": 39,
   "id": "f321a2e9",
   "metadata": {},
   "outputs": [],
   "source": [
    "#too_many_kittens(12, 12, False)\n",
    "#too_many_kittens(13, 12, True)\n",
    "#too_many_kittens(12, 13, True)\n"
   ]
  },
  {
   "cell_type": "code",
   "execution_count": 49,
   "id": "c17b24e3",
   "metadata": {},
   "outputs": [],
   "source": [
    "# Task 02\n",
    "# this functions sets default values for too_many_kittens\n",
    "def defaults(my_required:bool, my_optional:bool = True):\n",
    "    return my_optional is my_required"
   ]
  },
  {
   "cell_type": "code",
   "execution_count": 52,
   "id": "6fcbb63c",
   "metadata": {},
   "outputs": [
    {
     "data": {
      "text/plain": [
       "True"
      ]
     },
     "execution_count": 52,
     "metadata": {},
     "output_type": "execute_result"
    }
   ],
   "source": [
    "#defaults(True)\n",
    "#True\n",
    "#defaults(True, False)\n",
    "#False\n",
    "defaults(False, False)\n",
    "#True\n"
   ]
  },
  {
   "cell_type": "code",
   "execution_count": null,
   "id": "09c240c9",
   "metadata": {},
   "outputs": [],
   "source": []
  }
 ],
 "metadata": {
  "kernelspec": {
   "display_name": "Python 3",
   "language": "python",
   "name": "python3"
  },
  "language_info": {
   "codemirror_mode": {
    "name": "ipython",
    "version": 3
   },
   "file_extension": ".py",
   "mimetype": "text/x-python",
   "name": "python",
   "nbconvert_exporter": "python",
   "pygments_lexer": "ipython3",
   "version": "3.8.10"
  }
 },
 "nbformat": 4,
 "nbformat_minor": 5
}
