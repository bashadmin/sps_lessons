{
 "cells": [
  {
   "cell_type": "code",
   "execution_count": 1,
   "id": "6576080f",
   "metadata": {},
   "outputs": [],
   "source": [
    "# Task 01\n",
    "# this function checks weather or not there is enough waste facilities and food for cats.\n",
    "def too_many_kittens(kittens:int,litterboxes:int,catfood:bool):\n",
    "    if not (litterboxes >= kittens and catfood):\n",
    "        return True\n",
    "    else:\n",
    "        return False"
   ]
  },
  {
   "cell_type": "code",
   "execution_count": 2,
   "id": "f321a2e9",
   "metadata": {},
   "outputs": [
    {
     "data": {
      "text/plain": [
       "False"
      ]
     },
     "execution_count": 2,
     "metadata": {},
     "output_type": "execute_result"
    }
   ],
   "source": [
    "too_many_kittens(12, 12, False)\n",
    "#False"
   ]
  },
  {
   "cell_type": "code",
   "execution_count": 8,
   "id": "45f5a6b0",
   "metadata": {},
   "outputs": [
    {
     "data": {
      "text/plain": [
       "False"
      ]
     },
     "execution_count": 8,
     "metadata": {},
     "output_type": "execute_result"
    }
   ],
   "source": [
    "too_many_kittens(12, 13, True)\n",
    "#False"
   ]
  },
  {
   "cell_type": "code",
   "execution_count": 9,
   "id": "eddfaa1e",
   "metadata": {},
   "outputs": [
    {
     "data": {
      "text/plain": [
       "True"
      ]
     },
     "execution_count": 9,
     "metadata": {},
     "output_type": "execute_result"
    }
   ],
   "source": [
    "too_many_kittens(13, 12, True)\n",
    "#True"
   ]
  },
  {
   "cell_type": "code",
   "execution_count": 3,
   "id": "c17b24e3",
   "metadata": {},
   "outputs": [],
   "source": [
    "# Task 02\n",
    "# this functions sets default values for too_many_kittens\n",
    "def defaults(my_required:bool, my_optional:bool = True):\n",
    "    return my_optional is my_required"
   ]
  },
  {
   "cell_type": "code",
   "execution_count": 4,
   "id": "6fcbb63c",
   "metadata": {},
   "outputs": [
    {
     "data": {
      "text/plain": [
       "True"
      ]
     },
     "execution_count": 4,
     "metadata": {},
     "output_type": "execute_result"
    }
   ],
   "source": [
    "defaults(True)\n",
    "#True"
   ]
  },
  {
   "cell_type": "code",
   "execution_count": 5,
   "id": "09c240c9",
   "metadata": {},
   "outputs": [
    {
     "data": {
      "text/plain": [
       "False"
      ]
     },
     "execution_count": 5,
     "metadata": {},
     "output_type": "execute_result"
    }
   ],
   "source": [
    "defaults(True, False)\n",
    "#False"
   ]
  },
  {
   "cell_type": "code",
   "execution_count": 6,
   "id": "ee1d2206",
   "metadata": {},
   "outputs": [
    {
     "data": {
      "text/plain": [
       "True"
      ]
     },
     "execution_count": 6,
     "metadata": {},
     "output_type": "execute_result"
    }
   ],
   "source": [
    "defaults(False, False)\n",
    "#True"
   ]
  },
  {
   "cell_type": "code",
   "execution_count": null,
   "id": "2bf29b3d",
   "metadata": {},
   "outputs": [],
   "source": []
  }
 ],
 "metadata": {
  "kernelspec": {
   "display_name": "Python 3",
   "language": "python",
   "name": "python3"
  },
  "language_info": {
   "codemirror_mode": {
    "name": "ipython",
    "version": 3
   },
   "file_extension": ".py",
   "mimetype": "text/x-python",
   "name": "python",
   "nbconvert_exporter": "python",
   "pygments_lexer": "ipython3",
   "version": "3.8.10"
  }
 },
 "nbformat": 4,
 "nbformat_minor": 5
}
