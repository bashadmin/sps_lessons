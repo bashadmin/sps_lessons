{
 "cells": [
  {
   "cell_type": "code",
   "execution_count": 1,
   "id": "b010a0ac",
   "metadata": {},
   "outputs": [],
   "source": [
    "DATA = {\n",
    "    2: 7493945,\n",
    "    76: 4654320,\n",
    "    3: 4091979,\n",
    "    90: 1824881,\n",
    "    82: 714422,\n",
    "    45: 1137701,\n",
    "    10: 374362,\n",
    "    0: 326226,\n",
    "    -15: 417203,\n",
    "    -56: 333525,\n",
    "    67: 323451,\n",
    "    99: 321696,\n",
    "    21: 336753,\n",
    "    -100: 361237,\n",
    "    55: 1209714,\n",
    "    5150: 1771800,\n",
    "    42: 4714011,\n",
    "    888: 14817667,\n",
    "    3500: 13760234,\n",
    "    712: 10903322,\n",
    "    7: 10443792,\n",
    "    842: 11716264,\n",
    "    18584: 10559923,\n",
    "    666: 9275602,\n",
    "    70: 11901200,\n",
    "    153: 12074784,\n",
    "    8: 4337229\n",
    "}"
   ]
  },
  {
   "cell_type": "code",
   "execution_count": 19,
   "id": "7e00b4b1",
   "metadata": {},
   "outputs": [],
   "source": [
    "# Assign and append the sum of the value minus the key to the running total variable.\n",
    "def iter_dict_funky_sum(DATA:dict):\n",
    "    running_total = 0\n",
    "    for key, value in DATA.items():\n",
    "        running_total += value - key\n",
    "    return running_total"
   ]
  },
  {
   "cell_type": "code",
   "execution_count": 21,
   "id": "b9083d5e",
   "metadata": {},
   "outputs": [
    {
     "data": {
      "text/plain": [
       "140166242"
      ]
     },
     "execution_count": 21,
     "metadata": {},
     "output_type": "execute_result"
    }
   ],
   "source": [
    "# Should return 140166242\n",
    "iter_dict_funky_sum(DATA)"
   ]
  },
  {
   "cell_type": "code",
   "execution_count": null,
   "id": "ba230698",
   "metadata": {},
   "outputs": [],
   "source": []
  }
 ],
 "metadata": {
  "kernelspec": {
   "display_name": "Python 3",
   "language": "python",
   "name": "python3"
  },
  "language_info": {
   "codemirror_mode": {
    "name": "ipython",
    "version": 3
   },
   "file_extension": ".py",
   "mimetype": "text/x-python",
   "name": "python",
   "nbconvert_exporter": "python",
   "pygments_lexer": "ipython3",
   "version": "3.8.10"
  }
 },
 "nbformat": 4,
 "nbformat_minor": 5
}
