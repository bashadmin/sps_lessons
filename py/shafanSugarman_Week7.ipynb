{
 "cells": [
  {
   "cell_type": "code",
   "execution_count": 42,
   "id": "5b942cbb",
   "metadata": {},
   "outputs": [],
   "source": [
    "# Simple function to test the users blood pressure using conditionals\n",
    "def bp_systolic_check():\n",
    "    systolic = int(input('Please enter your systolic pressure: '))\n",
    "    BP_STATUS = systolic\n",
    "    if BP_STATUS <= 89:\n",
    "        Result = \"Low\"\n",
    "    elif 90 <= BP_STATUS <= 119:\n",
    "        Result = \"Ideal\"\n",
    "    elif 120 <= BP_STATUS <= 139:\n",
    "        Result = \"Warning\"\n",
    "    elif 140 <= BP_STATUS <= 159:\n",
    "        Result = \"High\"\n",
    "    else:\n",
    "        return print(\"Emergency {} is far too high!\\nPlease seek medical attention!!! \".format(BP_STATUS))\n",
    "    print(\"{} is your systolic pressure.\\nThis indicates {} blood pressure.\".format(BP_STATUS, Result))"
   ]
  },
  {
   "cell_type": "code",
   "execution_count": null,
   "id": "f4cf04e5",
   "metadata": {},
   "outputs": [],
   "source": [
    "bp_systolic_check()"
   ]
  },
  {
   "cell_type": "code",
   "execution_count": null,
   "id": "f7445f5f",
   "metadata": {},
   "outputs": [],
   "source": []
  }
 ],
 "metadata": {
  "kernelspec": {
   "display_name": "Python 3",
   "language": "python",
   "name": "python3"
  },
  "language_info": {
   "codemirror_mode": {
    "name": "ipython",
    "version": 3
   },
   "file_extension": ".py",
   "mimetype": "text/x-python",
   "name": "python",
   "nbconvert_exporter": "python",
   "pygments_lexer": "ipython3",
   "version": "3.8.10"
  }
 },
 "nbformat": 4,
 "nbformat_minor": 5
}
