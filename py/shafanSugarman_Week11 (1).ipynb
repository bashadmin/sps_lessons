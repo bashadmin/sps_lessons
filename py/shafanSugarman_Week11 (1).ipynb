{
 "cells": [
  {
   "cell_type": "code",
   "execution_count": 1,
   "id": "74356b5b",
   "metadata": {},
   "outputs": [],
   "source": [
    "class Car:\n",
    "    def __init__(self, color='red'):\n",
    "        self.color = color\n",
    "class Tire:\n",
    "    def __init__(self, miles=0):\n",
    "        self.miles = miles\n",
    "    def add_miles(self, miles):\n",
    "        self.miles += miles"
   ]
  },
  {
   "cell_type": "code",
   "execution_count": 2,
   "id": "9541e120",
   "metadata": {},
   "outputs": [],
   "source": [
    "class CustomTire(Tire):\n",
    "    __maximum_miles = 500\n",
    "class CustomCar(Car):\n",
    "    def __init__(self, color='red', tires=None):\n",
    "        Car.__init__(self, color)\n",
    "        if tires is None:\n",
    "            tires = [CustomTire() for _ in range(4)]\n",
    "        self.tires = tires"
   ]
  },
  {
   "cell_type": "code",
   "execution_count": 5,
   "id": "4e48acb3",
   "metadata": {},
   "outputs": [
    {
     "data": {
      "text/plain": [
       "4"
      ]
     },
     "execution_count": 5,
     "metadata": {},
     "output_type": "execute_result"
    }
   ],
   "source": [
    "mycar = CustomCar()\n",
    "len(mycar.tires)"
   ]
  },
  {
   "cell_type": "code",
   "execution_count": 4,
   "id": "a4c8fc8f",
   "metadata": {},
   "outputs": [
    {
     "data": {
      "text/plain": [
       "True"
      ]
     },
     "execution_count": 4,
     "metadata": {},
     "output_type": "execute_result"
    }
   ],
   "source": [
    "isinstance(mycar.tires[0], CustomTire)"
   ]
  },
  {
   "cell_type": "code",
   "execution_count": 6,
   "id": "326248b9",
   "metadata": {},
   "outputs": [
    {
     "data": {
      "text/plain": [
       "1"
      ]
     },
     "execution_count": 6,
     "metadata": {},
     "output_type": "execute_result"
    }
   ],
   "source": [
    "myTires = [CustomTire()]\n",
    "myCar = CustomCar(tires = myTires)\n",
    "len(myCar.tires)"
   ]
  },
  {
   "cell_type": "code",
   "execution_count": null,
   "id": "94901471",
   "metadata": {},
   "outputs": [],
   "source": []
  }
 ],
 "metadata": {
  "kernelspec": {
   "display_name": "Python 3",
   "language": "python",
   "name": "python3"
  },
  "language_info": {
   "codemirror_mode": {
    "name": "ipython",
    "version": 3
   },
   "file_extension": ".py",
   "mimetype": "text/x-python",
   "name": "python",
   "nbconvert_exporter": "python",
   "pygments_lexer": "ipython3",
   "version": "3.8.10"
  }
 },
 "nbformat": 4,
 "nbformat_minor": 5
}
